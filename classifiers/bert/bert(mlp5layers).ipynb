{
  "cells": [
    {
      "cell_type": "code",
      "execution_count": 1,
      "metadata": {
        "colab": {
          "base_uri": "https://localhost:8080/"
        },
        "id": "vBPnebyZH976",
        "outputId": "69af89c6-88da-4aff-d63c-23d978a9a4b8"
      },
      "outputs": [
        {
          "name": "stdout",
          "output_type": "stream",
          "text": [
            "Collecting transformers\n",
            "  Downloading transformers-4.13.0-py3-none-any.whl (3.3 MB)\n",
            "\u001b[K     |████████████████████████████████| 3.3 MB 5.4 MB/s \n",
            "\u001b[?25hRequirement already satisfied: numpy>=1.17 in /usr/local/lib/python3.7/dist-packages (from transformers) (1.19.5)\n",
            "Collecting tokenizers<0.11,>=0.10.1\n",
            "  Downloading tokenizers-0.10.3-cp37-cp37m-manylinux_2_5_x86_64.manylinux1_x86_64.manylinux_2_12_x86_64.manylinux2010_x86_64.whl (3.3 MB)\n",
            "\u001b[K     |████████████████████████████████| 3.3 MB 28.3 MB/s \n",
            "\u001b[?25hRequirement already satisfied: importlib-metadata in /usr/local/lib/python3.7/dist-packages (from transformers) (4.8.2)\n",
            "Collecting huggingface-hub<1.0,>=0.1.0\n",
            "  Downloading huggingface_hub-0.2.1-py3-none-any.whl (61 kB)\n",
            "\u001b[K     |████████████████████████████████| 61 kB 429 kB/s \n",
            "\u001b[?25hRequirement already satisfied: tqdm>=4.27 in /usr/local/lib/python3.7/dist-packages (from transformers) (4.62.3)\n",
            "Collecting sacremoses\n",
            "  Downloading sacremoses-0.0.46-py3-none-any.whl (895 kB)\n",
            "\u001b[K     |████████████████████████████████| 895 kB 49.3 MB/s \n",
            "\u001b[?25hRequirement already satisfied: filelock in /usr/local/lib/python3.7/dist-packages (from transformers) (3.4.0)\n",
            "Requirement already satisfied: requests in /usr/local/lib/python3.7/dist-packages (from transformers) (2.23.0)\n",
            "Collecting pyyaml>=5.1\n",
            "  Downloading PyYAML-6.0-cp37-cp37m-manylinux_2_5_x86_64.manylinux1_x86_64.manylinux_2_12_x86_64.manylinux2010_x86_64.whl (596 kB)\n",
            "\u001b[K     |████████████████████████████████| 596 kB 37.0 MB/s \n",
            "\u001b[?25hRequirement already satisfied: regex!=2019.12.17 in /usr/local/lib/python3.7/dist-packages (from transformers) (2019.12.20)\n",
            "Requirement already satisfied: packaging>=20.0 in /usr/local/lib/python3.7/dist-packages (from transformers) (21.3)\n",
            "Requirement already satisfied: typing-extensions>=3.7.4.3 in /usr/local/lib/python3.7/dist-packages (from huggingface-hub<1.0,>=0.1.0->transformers) (3.10.0.2)\n",
            "Requirement already satisfied: pyparsing!=3.0.5,>=2.0.2 in /usr/local/lib/python3.7/dist-packages (from packaging>=20.0->transformers) (3.0.6)\n",
            "Requirement already satisfied: zipp>=0.5 in /usr/local/lib/python3.7/dist-packages (from importlib-metadata->transformers) (3.6.0)\n",
            "Requirement already satisfied: chardet<4,>=3.0.2 in /usr/local/lib/python3.7/dist-packages (from requests->transformers) (3.0.4)\n",
            "Requirement already satisfied: certifi>=2017.4.17 in /usr/local/lib/python3.7/dist-packages (from requests->transformers) (2021.10.8)\n",
            "Requirement already satisfied: idna<3,>=2.5 in /usr/local/lib/python3.7/dist-packages (from requests->transformers) (2.10)\n",
            "Requirement already satisfied: urllib3!=1.25.0,!=1.25.1,<1.26,>=1.21.1 in /usr/local/lib/python3.7/dist-packages (from requests->transformers) (1.24.3)\n",
            "Requirement already satisfied: click in /usr/local/lib/python3.7/dist-packages (from sacremoses->transformers) (7.1.2)\n",
            "Requirement already satisfied: six in /usr/local/lib/python3.7/dist-packages (from sacremoses->transformers) (1.15.0)\n",
            "Requirement already satisfied: joblib in /usr/local/lib/python3.7/dist-packages (from sacremoses->transformers) (1.1.0)\n",
            "Installing collected packages: pyyaml, tokenizers, sacremoses, huggingface-hub, transformers\n",
            "  Attempting uninstall: pyyaml\n",
            "    Found existing installation: PyYAML 3.13\n",
            "    Uninstalling PyYAML-3.13:\n",
            "      Successfully uninstalled PyYAML-3.13\n",
            "Successfully installed huggingface-hub-0.2.1 pyyaml-6.0 sacremoses-0.0.46 tokenizers-0.10.3 transformers-4.13.0\n"
          ]
        }
      ],
      "source": [
        "# Installing a library that is used to create model\n",
        "!pip install transformers"
      ]
    },
    {
      "cell_type": "code",
      "execution_count": 22,
      "metadata": {
        "colab": {
          "base_uri": "https://localhost:8080/"
        },
        "id": "3s4iF9FahFrq",
        "outputId": "1279c918-4e8c-4d71-b422-a21d4c9fd61d"
      },
      "outputs": [
        {
          "name": "stdout",
          "output_type": "stream",
          "text": [
            "[nltk_data] Downloading package stopwords to /root/nltk_data...\n",
            "[nltk_data]   Package stopwords is already up-to-date!\n"
          ]
        },
        {
          "data": {
            "text/plain": [
              "True"
            ]
          },
          "execution_count": 22,
          "metadata": {},
          "output_type": "execute_result"
        }
      ],
      "source": [
        "import numpy as np\n",
        "from nltk.corpus import stopwords\n",
        "import nltk\n",
        "import re\n",
        "from transformers import TFBertModel,  BertConfig, BertTokenizerFast\n",
        "from tensorflow.keras.layers import Input, Dropout, Dense\n",
        "from tensorflow.keras.models import Model\n",
        "from tensorflow.keras.optimizers import Adam\n",
        "from tensorflow.keras.losses import CategoricalCrossentropy\n",
        "\n",
        "from tensorflow.keras.metrics import CategoricalAccuracy\n",
        "from tensorflow.keras.utils import to_categorical\n",
        "\n",
        "from sklearn.model_selection import train_test_split\n",
        "nltk.download('stopwords')"
      ]
    },
    {
      "cell_type": "markdown",
      "metadata": {
        "id": "-TCA1J5aRkbq"
      },
      "source": [
        "## Training"
      ]
    },
    {
      "cell_type": "code",
      "execution_count": 23,
      "metadata": {
        "id": "144hQ15YRpWN"
      },
      "outputs": [],
      "source": [
        "\n",
        "import pandas as pd\n",
        "df = pd.read_csv(\"/content/test_data.csv\")\n",
        "df = df.dropna()  \n",
        "\n",
        "sentences = df['text'].values\n",
        "\n",
        "ex = sentences.shape[0]\n",
        "y = np.zeros((ex))\n",
        "y[df['class'] == 'suicide'] = 1\n",
        "\n",
        "df[\"coded_class\"] = y"
      ]
    },
    {
      "cell_type": "code",
      "execution_count": 24,
      "metadata": {
        "id": "vLqPhyp3VhEf"
      },
      "outputs": [],
      "source": [
        "train_data, test_data = train_test_split(\n",
        "    df, test_size=0.25, random_state=1000)"
      ]
    },
    {
      "cell_type": "code",
      "execution_count": 25,
      "metadata": {
        "colab": {
          "base_uri": "https://localhost:8080/"
        },
        "id": "_pYYzzZbVjtx",
        "outputId": "7bfd9cf2-481a-46ee-a563-94d09afe6e49"
      },
      "outputs": [
        {
          "name": "stderr",
          "output_type": "stream",
          "text": [
            "Some layers from the model checkpoint at bert-base-uncased were not used when initializing TFBertModel: ['nsp___cls', 'mlm___cls']\n",
            "- This IS expected if you are initializing TFBertModel from the checkpoint of a model trained on another task or with another architecture (e.g. initializing a BertForSequenceClassification model from a BertForPreTraining model).\n",
            "- This IS NOT expected if you are initializing TFBertModel from the checkpoint of a model that you expect to be exactly identical (initializing a BertForSequenceClassification model from a BertForSequenceClassification model).\n",
            "All the layers of TFBertModel were initialized from the model checkpoint at bert-base-uncased.\n",
            "If your task is similar to the task the model of the checkpoint was trained on, you can already use TFBertModel for predictions without further training.\n"
          ]
        }
      ],
      "source": [
        "# Name of the BERT model to use\n",
        "model_name = 'bert-base-uncased'\n",
        "# Max length of tokens\n",
        "max_length = 300\n",
        "# Load transformers config and set output_hidden_states to False\n",
        "config = BertConfig.from_pretrained(model_name)\n",
        "config.output_hidden_states = False\n",
        "# Load BERT tokenizer\n",
        "tokenizer = BertTokenizerFast.from_pretrained(pretrained_model_name_or_path = model_name, config = config)\n",
        "# Load the Transformers BERT model\n",
        "transformer_model = TFBertModel.from_pretrained(model_name, config = config)"
      ]
    },
    {
      "cell_type": "code",
      "execution_count": 26,
      "metadata": {
        "id": "SMRR0-hZVnKb"
      },
      "outputs": [],
      "source": [
        "\n",
        "\n",
        "bert = transformer_model.layers[0]\n",
        "\n",
        "input_ids = Input(shape=(max_length), name='input_ids', dtype='int32')\n",
        "inputs = {'input_ids': input_ids}\n",
        "\n",
        "bert_model = bert(inputs)[1]\n",
        "pooled_output = Dropout(0.2)(bert_model)\n",
        "\n",
        "issue = Dense(units=100)(pooled_output)\n",
        "issue = Dropout(0.2)(issue)\n",
        "issue = Dense(units=10)(issue)\n",
        "issue = Dropout(0.2)(issue)\n",
        "product = Dense(units=2)(issue)\n",
        "outputs = { 'product': product}\n",
        "\n",
        "model = Model(inputs=inputs, outputs=outputs, name='BERT_MultiLabel_MultiClass')\n"
      ]
    },
    {
      "cell_type": "code",
      "execution_count": 27,
      "metadata": {
        "id": "Ky59pF6QVsiO"
      },
      "outputs": [],
      "source": [
        "optimizer = Adam(\n",
        "    learning_rate=5e-05,\n",
        "    epsilon=1e-08,\n",
        "    decay=0.01,\n",
        "    clipnorm=1.0)\n",
        "# Set loss and metrics\n",
        "\n",
        "loss = {'product': CategoricalCrossentropy(from_logits = True)}\n",
        "metric = {'product': CategoricalAccuracy('accuracy')}\n",
        "\n",
        "model.compile(\n",
        "    optimizer = optimizer,\n",
        "    loss = loss, \n",
        "    metrics = metric)\n",
        "\n"
      ]
    },
    {
      "cell_type": "code",
      "execution_count": 28,
      "metadata": {
        "id": "W7UoKAugV7co"
      },
      "outputs": [],
      "source": [
        "\n",
        "\n",
        "y_product = to_categorical(train_data['coded_class'])\n",
        "# Tokenize the input (takes some time)\n",
        "x = tokenizer(\n",
        "    text=train_data['text'].to_list(), \n",
        "   add_special_tokens=True,\n",
        "    max_length=max_length,\n",
        "    truncation=True,\n",
        "    padding=True, \n",
        "    return_tensors='tf',\n",
        "    return_token_type_ids = False,\n",
        "    return_attention_mask = False,\n",
        "    verbose = True)\n"
      ]
    },
    {
      "cell_type": "code",
      "execution_count": 29,
      "metadata": {
        "colab": {
          "base_uri": "https://localhost:8080/"
        },
        "id": "-zpqOQJaV7yY",
        "outputId": "37e23d36-81e9-4dde-93cc-7567ccb4395f"
      },
      "outputs": [
        {
          "name": "stdout",
          "output_type": "stream",
          "text": [
            "Epoch 1/5\n",
            "1/1 [==============================] - 129s 129s/step - loss: 0.1837 - accuracy: 1.0000 - val_loss: 2.9890 - val_accuracy: 0.5000\n",
            "Epoch 2/5\n",
            "1/1 [==============================] - 32s 32s/step - loss: 0.0098 - accuracy: 1.0000 - val_loss: 3.3249 - val_accuracy: 0.5000\n",
            "Epoch 3/5\n",
            "1/1 [==============================] - 32s 32s/step - loss: 0.0039 - accuracy: 1.0000 - val_loss: 3.5861 - val_accuracy: 0.5000\n",
            "Epoch 4/5\n",
            "1/1 [==============================] - 32s 32s/step - loss: 0.0045 - accuracy: 1.0000 - val_loss: 3.9007 - val_accuracy: 0.5000\n",
            "Epoch 5/5\n",
            "1/1 [==============================] - 32s 32s/step - loss: 0.0039 - accuracy: 1.0000 - val_loss: 4.2028 - val_accuracy: 0.5000\n"
          ]
        }
      ],
      "source": [
        "# Fit the model\n",
        "history = model.fit(\n",
        "    x={'input_ids': x['input_ids']},\n",
        "    y={'product': y_product},\n",
        "    validation_split=0.2,\n",
        "    batch_size=8,\n",
        "    epochs=5)\n",
        "\n",
        "model.save_weights(\"weights.h5\")"
      ]
    },
    {
      "cell_type": "code",
      "execution_count": 30,
      "metadata": {
        "colab": {
          "base_uri": "https://localhost:8080/"
        },
        "id": "Ou2OyhUFV-Nd",
        "outputId": "2d207ed0-8049-4108-d2e4-65b691fd75a4"
      },
      "outputs": [
        {
          "name": "stdout",
          "output_type": "stream",
          "text": [
            "8/8 [==============================] - 282s 35s/step - loss: 1.0286 - accuracy: 0.8849\n"
          ]
        }
      ],
      "source": [
        "#######################################\n",
        "### ----- Evaluate the model ------ #### Ready test data\n",
        "# Tokenize the input (takes some time)\n",
        "y_product_test = to_categorical(test_data['coded_class'])\n",
        "\n",
        "test_x = tokenizer(\n",
        "    text=test_data['text'].to_list(), \n",
        "   add_special_tokens=True,\n",
        "    max_length=max_length,\n",
        "    truncation=True,\n",
        "    padding=True, \n",
        "    return_tensors='tf',\n",
        "    return_token_type_ids = False,\n",
        "    return_attention_mask = False,\n",
        "    verbose = True)\n",
        "model_eval = model.evaluate(\n",
        "    x={'input_ids': test_x['input_ids']},\n",
        "    y={'product': y_product_test}\n",
        ")"
      ]
    },
    {
      "cell_type": "code",
      "execution_count": 32,
      "metadata": {
        "id": "PQ8utmQFxlq6"
      },
      "outputs": [],
      "source": [
        "def set_array(ar):\n",
        "  final = []\n",
        "  for a in ar:\n",
        "    final.append(np.argmax(a))\n",
        "  return final\n",
        "  "
      ]
    },
    {
      "cell_type": "code",
      "execution_count": 38,
      "metadata": {
        "id": "wCyXQIVPWGGQ"
      },
      "outputs": [],
      "source": [
        "predicted = model.predict(x={'input_ids': test_x['input_ids']})['product']\n",
        "predicted = set_array(predicted)"
      ]
    },
    {
      "cell_type": "code",
      "execution_count": 39,
      "metadata": {
        "colab": {
          "base_uri": "https://localhost:8080/"
        },
        "id": "pRQWW4xdLkIF",
        "outputId": "4403f3d2-467b-4292-a8a6-f50cf338b7fe"
      },
      "outputs": [
        {
          "data": {
            "text/plain": [
              "[1, 1, 1]"
            ]
          },
          "execution_count": 39,
          "metadata": {},
          "output_type": "execute_result"
        }
      ],
      "source": [
        "predicted"
      ]
    },
    {
      "cell_type": "code",
      "execution_count": 42,
      "metadata": {
        "id": "R3PQlK4DyJW6"
      },
      "outputs": [],
      "source": [
        "y_product_test = set_array(y_product_test)"
      ]
    },
    {
      "cell_type": "code",
      "execution_count": 44,
      "metadata": {
        "colab": {
          "base_uri": "https://localhost:8080/"
        },
        "id": "NoX92x7wxajm",
        "outputId": "64e8ae0a-64c8-4d6f-aeb7-985ee491a8f7"
      },
      "outputs": [
        {
          "data": {
            "text/plain": [
              "array([[0, 3],\n",
              "       [0, 0]])"
            ]
          },
          "execution_count": 44,
          "metadata": {},
          "output_type": "execute_result"
        }
      ],
      "source": [
        "from sklearn.metrics import confusion_matrix\n",
        "confusion_matrix(y_product_test, predicted)"
      ]
    },
    {
      "cell_type": "code",
      "execution_count": null,
      "metadata": {
        "id": "kt3X4QYQ-d9F"
      },
      "outputs": [],
      "source": []
    }
  ],
  "metadata": {
    "colab": {
      "collapsed_sections": [],
      "name": "bert.ipynb",
      "provenance": []
    },
    "kernelspec": {
      "display_name": "Python 3",
      "name": "python3"
    },
    "language_info": {
      "name": "python"
    }
  },
  "nbformat": 4,
  "nbformat_minor": 0
}
